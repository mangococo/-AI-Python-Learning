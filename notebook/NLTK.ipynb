{
 "cells": [
  {
   "cell_type": "markdown",
   "source": [
    "# NLTK 资源装载"
   ],
   "metadata": {
    "collapsed": false
   },
   "id": "cf07079406b20efd"
  },
  {
   "cell_type": "code",
   "outputs": [
    {
     "name": "stdout",
     "output_type": "stream",
     "text": [
      "showing info https://raw.githubusercontent.com/nltk/nltk_data/gh-pages/index.xml\n"
     ]
    },
    {
     "data": {
      "text/plain": "True"
     },
     "execution_count": 1,
     "metadata": {},
     "output_type": "execute_result"
    }
   ],
   "source": [
    "import nltk\n",
    "nltk.set_proxy('http://127.0.0.1:7890')\n",
    "nltk.download()"
   ],
   "metadata": {
    "ExecuteTime": {
     "end_time": "2024-02-19T13:40:21.139020Z",
     "start_time": "2024-02-19T13:39:08.641428Z"
    }
   },
   "id": "6084c2d3-1e78-4fa5-be84-61b79bf9dcab",
   "execution_count": 1
  }
 ],
 "metadata": {
  "kernelspec": {
   "display_name": "Python 3 (ipykernel)",
   "language": "python",
   "name": "python3"
  },
  "language_info": {
   "codemirror_mode": {
    "name": "ipython",
    "version": 3
   },
   "file_extension": ".py",
   "mimetype": "text/x-python",
   "name": "python",
   "nbconvert_exporter": "python",
   "pygments_lexer": "ipython3",
   "version": "3.9.0"
  }
 },
 "nbformat": 4,
 "nbformat_minor": 5
}
